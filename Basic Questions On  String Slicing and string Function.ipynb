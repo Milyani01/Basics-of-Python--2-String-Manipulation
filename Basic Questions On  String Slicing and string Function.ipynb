{
 "cells": [
  {
   "cell_type": "markdown",
   "id": "2d20d6c5",
   "metadata": {},
   "source": [
    "# **Print First and Last Characters**"
   ]
  },
  {
   "cell_type": "markdown",
   "id": "7a38dd1f",
   "metadata": {},
   "source": [
    "Declare a string and print the first character."
   ]
  },
  {
   "cell_type": "code",
   "execution_count": 1,
   "id": "1a04be17",
   "metadata": {},
   "outputs": [
    {
     "data": {
      "text/plain": [
       "'M'"
      ]
     },
     "execution_count": 1,
     "metadata": {},
     "output_type": "execute_result"
    }
   ],
   "source": [
    "name='Milyani'\n",
    "name[0]"
   ]
  },
  {
   "cell_type": "markdown",
   "id": "1a120ffe",
   "metadata": {},
   "source": [
    "Print the last character of the string."
   ]
  },
  {
   "cell_type": "code",
   "execution_count": 3,
   "id": "394b51e8",
   "metadata": {},
   "outputs": [
    {
     "data": {
      "text/plain": [
       "'i'"
      ]
     },
     "execution_count": 3,
     "metadata": {},
     "output_type": "execute_result"
    }
   ],
   "source": [
    "name[6]"
   ]
  },
  {
   "cell_type": "markdown",
   "id": "3e1a0c91",
   "metadata": {},
   "source": [
    "# **Extract Substring**"
   ]
  },
  {
   "cell_type": "markdown",
   "id": "e08e5215",
   "metadata": {},
   "source": [
    "Declare a string and extract a substring containing the first three characters."
   ]
  },
  {
   "cell_type": "code",
   "execution_count": 4,
   "id": "17ac71cd",
   "metadata": {},
   "outputs": [
    {
     "data": {
      "text/plain": [
       "'Eng'"
      ]
     },
     "execution_count": 4,
     "metadata": {},
     "output_type": "execute_result"
    }
   ],
   "source": [
    "sub='English'\n",
    "sub[0:3]"
   ]
  },
  {
   "cell_type": "markdown",
   "id": "e4effd0b",
   "metadata": {},
   "source": [
    "Extract a substring that starts from the third character to the end of the string."
   ]
  },
  {
   "cell_type": "code",
   "execution_count": 6,
   "id": "dd146e68",
   "metadata": {},
   "outputs": [
    {
     "data": {
      "text/plain": [
       "'glish'"
      ]
     },
     "execution_count": 6,
     "metadata": {},
     "output_type": "execute_result"
    }
   ],
   "source": [
    "sub[2:]"
   ]
  },
  {
   "cell_type": "markdown",
   "id": "b7e80173",
   "metadata": {},
   "source": [
    "# **Print Even and Odd Positions**"
   ]
  },
  {
   "cell_type": "markdown",
   "id": "9f860051",
   "metadata": {},
   "source": [
    "Declare a string and print characters at even positions (0-based index)"
   ]
  },
  {
   "cell_type": "code",
   "execution_count": 8,
   "id": "9a8c3c0d",
   "metadata": {},
   "outputs": [
    {
     "data": {
      "text/plain": [
       "'Mlaiai'"
      ]
     },
     "execution_count": 8,
     "metadata": {},
     "output_type": "execute_result"
    }
   ],
   "source": [
    "x='MilyaniPatil'\n",
    "x[0::2]"
   ]
  },
  {
   "cell_type": "markdown",
   "id": "c46f554f",
   "metadata": {},
   "source": [
    "Print characters at odd positions of the string"
   ]
  },
  {
   "cell_type": "code",
   "execution_count": 9,
   "id": "be46ae8f",
   "metadata": {},
   "outputs": [
    {
     "data": {
      "text/plain": [
       "'iynPtl'"
      ]
     },
     "execution_count": 9,
     "metadata": {},
     "output_type": "execute_result"
    }
   ],
   "source": [
    "x[1::2]"
   ]
  },
  {
   "cell_type": "markdown",
   "id": "2620c2b6",
   "metadata": {},
   "source": [
    "# **Reverse a String**"
   ]
  },
  {
   "cell_type": "markdown",
   "id": "bb548bad",
   "metadata": {},
   "source": [
    "Declare a string and print it in reverse order."
   ]
  },
  {
   "cell_type": "code",
   "execution_count": 12,
   "id": "02de58b7",
   "metadata": {},
   "outputs": [
    {
     "data": {
      "text/plain": [
       "'litaPinayliM'"
      ]
     },
     "execution_count": 12,
     "metadata": {},
     "output_type": "execute_result"
    }
   ],
   "source": [
    "x='MilyaniPatil'\n",
    "x[::-1]"
   ]
  },
  {
   "cell_type": "markdown",
   "id": "e7c91d38",
   "metadata": {},
   "source": [
    "# **Slice with Stride**"
   ]
  },
  {
   "cell_type": "markdown",
   "id": "0ac9f499",
   "metadata": {},
   "source": [
    "Declare a string and print every second character using slicing"
   ]
  },
  {
   "cell_type": "code",
   "execution_count": 15,
   "id": "4c603f60",
   "metadata": {},
   "outputs": [
    {
     "data": {
      "text/plain": [
       "'iynPtl'"
      ]
     },
     "execution_count": 15,
     "metadata": {},
     "output_type": "execute_result"
    }
   ],
   "source": [
    "x='MilyaniPatil'\n",
    "x[1::2]"
   ]
  },
  {
   "cell_type": "markdown",
   "id": "a49a4ffd",
   "metadata": {},
   "source": [
    "# **Negative Indexing**"
   ]
  },
  {
   "cell_type": "markdown",
   "id": "afebc248",
   "metadata": {},
   "source": [
    "Declare a string and use negative indexing to print the last three characters."
   ]
  },
  {
   "cell_type": "code",
   "execution_count": 16,
   "id": "c7639750",
   "metadata": {},
   "outputs": [
    {
     "data": {
      "text/plain": [
       "'til'"
      ]
     },
     "execution_count": 16,
     "metadata": {},
     "output_type": "execute_result"
    }
   ],
   "source": [
    "x='MilyaniPatil'\n",
    "x[-3:]"
   ]
  },
  {
   "cell_type": "markdown",
   "id": "727b3b19",
   "metadata": {},
   "source": [
    "# **Substring Replacement**"
   ]
  },
  {
   "cell_type": "markdown",
   "id": "d17b822d",
   "metadata": {},
   "source": [
    "Declare a string and replace a specific substring with another"
   ]
  },
  {
   "cell_type": "code",
   "execution_count": 17,
   "id": "ce5f100d",
   "metadata": {},
   "outputs": [
    {
     "data": {
      "text/plain": [
       "'Kalyani have three sisters'"
      ]
     },
     "execution_count": 17,
     "metadata": {},
     "output_type": "execute_result"
    }
   ],
   "source": [
    "a=\"Milyani have three sisters\"\n",
    "a.replace(\"Milyani\",\"Kalyani\")"
   ]
  },
  {
   "cell_type": "markdown",
   "id": "71435446",
   "metadata": {},
   "source": [
    "# **Slice from the End**"
   ]
  },
  {
   "cell_type": "markdown",
   "id": "c2cb21a3",
   "metadata": {},
   "source": [
    "Declare a string and extract the last four characters using slicing"
   ]
  },
  {
   "cell_type": "code",
   "execution_count": 18,
   "id": "c7ab3628",
   "metadata": {},
   "outputs": [
    {
     "data": {
      "text/plain": [
       "'minu'"
      ]
     },
     "execution_count": 18,
     "metadata": {},
     "output_type": "execute_result"
    }
   ],
   "source": [
    "x=\"Milyani's nick name is minu\"\n",
    "x[-4:]"
   ]
  },
  {
   "cell_type": "markdown",
   "id": "a35cd177",
   "metadata": {},
   "source": [
    "# **Omitting Start or End Index**"
   ]
  },
  {
   "cell_type": "markdown",
   "id": "7fe3e6c1",
   "metadata": {},
   "source": [
    "Declare a string and print the first three characters without specifying the start index"
   ]
  },
  {
   "cell_type": "code",
   "execution_count": 20,
   "id": "cb49e77b",
   "metadata": {},
   "outputs": [
    {
     "data": {
      "text/plain": [
       "'Mil'"
      ]
     },
     "execution_count": 20,
     "metadata": {},
     "output_type": "execute_result"
    }
   ],
   "source": [
    "x=\"Milyani's nick name is minu\"\n",
    "x[:3]"
   ]
  },
  {
   "cell_type": "markdown",
   "id": "fb7d2d0d",
   "metadata": {},
   "source": [
    "Print the last four characters without specifying the end index."
   ]
  },
  {
   "cell_type": "code",
   "execution_count": 21,
   "id": "1d821136",
   "metadata": {},
   "outputs": [
    {
     "data": {
      "text/plain": [
       "'minu'"
      ]
     },
     "execution_count": 21,
     "metadata": {},
     "output_type": "execute_result"
    }
   ],
   "source": [
    "x=\"Milyani's nick name is minu\"\n",
    "x[-4:]"
   ]
  },
  {
   "cell_type": "markdown",
   "id": "3c4e2927",
   "metadata": {},
   "source": [
    "# **Slice with Variables**"
   ]
  },
  {
   "cell_type": "markdown",
   "id": "0b6b6b0a",
   "metadata": {},
   "source": [
    "Declare a string and use variables to dynamically define start and end indices for slicing."
   ]
  },
  {
   "cell_type": "code",
   "execution_count": 23,
   "id": "927c68d9",
   "metadata": {},
   "outputs": [
    {
     "data": {
      "text/plain": [
       "\"ilyani's nick\""
      ]
     },
     "execution_count": 23,
     "metadata": {},
     "output_type": "execute_result"
    }
   ],
   "source": [
    "x=\"Milyani's nick name is minu\"\n",
    "y=1\n",
    "z=14\n",
    "variables=x[y:z]\n",
    "variables"
   ]
  },
  {
   "cell_type": "markdown",
   "id": "0642bc93",
   "metadata": {},
   "source": [
    "# **Empty String Slicing**"
   ]
  },
  {
   "cell_type": "markdown",
   "id": "2b7c65f1",
   "metadata": {},
   "source": [
    "Declare an empty string and attempt to perform string slicing. Observe the result"
   ]
  },
  {
   "cell_type": "code",
   "execution_count": 28,
   "id": "4612bef8",
   "metadata": {},
   "outputs": [
    {
     "data": {
      "text/plain": [
       "'  '"
      ]
     },
     "execution_count": 28,
     "metadata": {},
     "output_type": "execute_result"
    }
   ],
   "source": [
    "x='   '         #defining index to the space \n",
    "x[1:]"
   ]
  },
  {
   "cell_type": "markdown",
   "id": "498b2a8d",
   "metadata": {},
   "source": [
    "# basic questions related to string functions in Python"
   ]
  },
  {
   "cell_type": "markdown",
   "id": "64129122",
   "metadata": {},
   "source": [
    "# 1.String Length"
   ]
  },
  {
   "cell_type": "markdown",
   "id": "2616a03e",
   "metadata": {},
   "source": [
    "Declare a string and find its length using the len() function."
   ]
  },
  {
   "cell_type": "code",
   "execution_count": 30,
   "id": "7035ab37",
   "metadata": {},
   "outputs": [
    {
     "data": {
      "text/plain": [
       "27"
      ]
     },
     "execution_count": 30,
     "metadata": {},
     "output_type": "execute_result"
    }
   ],
   "source": [
    "x=\"Milyani's nick name is minu\"\n",
    "len(x)"
   ]
  },
  {
   "cell_type": "markdown",
   "id": "8ab3f805",
   "metadata": {},
   "source": [
    "# 2.Uppercase and Lowercase"
   ]
  },
  {
   "cell_type": "code",
   "execution_count": 31,
   "id": "d331110f",
   "metadata": {},
   "outputs": [
    {
     "data": {
      "text/plain": [
       "\"MILYANI'S NICK NAME IS MINU\""
      ]
     },
     "execution_count": 31,
     "metadata": {},
     "output_type": "execute_result"
    }
   ],
   "source": [
    "x=\"Milyani's nick name is minu\"\n",
    "x.upper()"
   ]
  },
  {
   "cell_type": "code",
   "execution_count": 32,
   "id": "fc7b2c49",
   "metadata": {},
   "outputs": [
    {
     "data": {
      "text/plain": [
       "\"milyani's nick name is minu\""
      ]
     },
     "execution_count": 32,
     "metadata": {},
     "output_type": "execute_result"
    }
   ],
   "source": [
    "x=\"Milyani's nick name is minu\"\n",
    "x.lower()"
   ]
  },
  {
   "cell_type": "markdown",
   "id": "50f43100",
   "metadata": {},
   "source": [
    " # 3.Count Occurrences"
   ]
  },
  {
   "cell_type": "markdown",
   "id": "b329b9c6",
   "metadata": {},
   "source": [
    "Declare a string and count the number of occurrences of a specific character."
   ]
  },
  {
   "cell_type": "code",
   "execution_count": 36,
   "id": "e4112ac5",
   "metadata": {},
   "outputs": [
    {
     "data": {
      "text/plain": [
       "5"
      ]
     },
     "execution_count": 36,
     "metadata": {},
     "output_type": "execute_result"
    }
   ],
   "source": [
    "x=\"Milyani's nick name is minu\"\n",
    "x.count(\"i\")"
   ]
  },
  {
   "cell_type": "markdown",
   "id": "ad1c5fca",
   "metadata": {},
   "source": [
    "# 4.String Concatenation"
   ]
  },
  {
   "cell_type": "markdown",
   "id": "f284e514",
   "metadata": {},
   "source": [
    "Declare two strings and concatenate them into a single string"
   ]
  },
  {
   "cell_type": "code",
   "execution_count": 38,
   "id": "9df96166",
   "metadata": {},
   "outputs": [
    {
     "data": {
      "text/plain": [
       "'Milyani Patil'"
      ]
     },
     "execution_count": 38,
     "metadata": {},
     "output_type": "execute_result"
    }
   ],
   "source": [
    "first_name=\"Milyani\"\n",
    "last_name=\"Patil\"\n",
    "Full_name=first_name+' '+last_name\n",
    "Full_name"
   ]
  },
  {
   "cell_type": "markdown",
   "id": "10a053ea",
   "metadata": {},
   "source": [
    "# 5.String Repetition"
   ]
  },
  {
   "cell_type": "markdown",
   "id": "6a58bd1d",
   "metadata": {},
   "source": [
    "Declare a string and repeat it three times"
   ]
  },
  {
   "cell_type": "code",
   "execution_count": 42,
   "id": "99d3fa3b",
   "metadata": {},
   "outputs": [
    {
     "data": {
      "text/plain": [
       "\"Milyani's nick name is minuMilyani's nick name is minuMilyani's nick name is minu\""
      ]
     },
     "execution_count": 42,
     "metadata": {},
     "output_type": "execute_result"
    }
   ],
   "source": [
    "x=\"Milyani's nick name is minu\"\n",
    "repeated_string=x*3\n",
    "repeated_string"
   ]
  },
  {
   "cell_type": "markdown",
   "id": "838721ea",
   "metadata": {},
   "source": [
    "# 6.Find Substring"
   ]
  },
  {
   "cell_type": "markdown",
   "id": "8c4a33d8",
   "metadata": {},
   "source": [
    "Declare a string and find the index of a specific substring"
   ]
  },
  {
   "cell_type": "code",
   "execution_count": 44,
   "id": "31ba6153",
   "metadata": {},
   "outputs": [
    {
     "data": {
      "text/plain": [
       "10"
      ]
     },
     "execution_count": 44,
     "metadata": {},
     "output_type": "execute_result"
    }
   ],
   "source": [
    "x=\"Milyani's nick name is minu\"\n",
    "x.find(\"nick\")"
   ]
  },
  {
   "cell_type": "markdown",
   "id": "198559a0",
   "metadata": {},
   "source": [
    "# 7.Replace Substring"
   ]
  },
  {
   "cell_type": "markdown",
   "id": "adfcfb9d",
   "metadata": {},
   "source": [
    "Declare a string and replace a specific substring with another."
   ]
  },
  {
   "cell_type": "code",
   "execution_count": 46,
   "id": "28ef0f0d",
   "metadata": {},
   "outputs": [
    {
     "data": {
      "text/plain": [
       "\"Milyani's nick name is mily\""
      ]
     },
     "execution_count": 46,
     "metadata": {},
     "output_type": "execute_result"
    }
   ],
   "source": [
    "x=\"Milyani's nick name is minu\"\n",
    "x.replace(\"minu\",\"mily\")"
   ]
  },
  {
   "cell_type": "markdown",
   "id": "018ba3e4",
   "metadata": {},
   "source": [
    "# 8.String Stripping"
   ]
  },
  {
   "cell_type": "markdown",
   "id": "a0587806",
   "metadata": {},
   "source": [
    "Declare a string with leading and trailing whitespaces, and remove them using the strip() function"
   ]
  },
  {
   "cell_type": "code",
   "execution_count": 48,
   "id": "39267f1e",
   "metadata": {},
   "outputs": [
    {
     "data": {
      "text/plain": [
       "\"Milyani's nick name is minu\""
      ]
     },
     "execution_count": 48,
     "metadata": {},
     "output_type": "execute_result"
    }
   ],
   "source": [
    "x=\"  Milyani's nick name is minu  \"\n",
    "x.strip()"
   ]
  },
  {
   "cell_type": "markdown",
   "id": "fa94b940",
   "metadata": {},
   "source": [
    "# 9.String Splitting"
   ]
  },
  {
   "cell_type": "markdown",
   "id": "ee830a5d",
   "metadata": {},
   "source": [
    "Declare a string representing a sentence and split it into a list of words using the split() function."
   ]
  },
  {
   "cell_type": "code",
   "execution_count": 53,
   "id": "0c5da4f2",
   "metadata": {},
   "outputs": [
    {
     "data": {
      "text/plain": [
       "[\"Milyani's\", 'nick', 'name', 'is', 'minu']"
      ]
     },
     "execution_count": 53,
     "metadata": {},
     "output_type": "execute_result"
    }
   ],
   "source": [
    "x=\"Milyani's nick name is minu\"\n",
    "x.split()\n"
   ]
  },
  {
   "cell_type": "markdown",
   "id": "9594e6b7",
   "metadata": {},
   "source": [
    "# 10.Joining Strings"
   ]
  },
  {
   "cell_type": "markdown",
   "id": "27be3ca2",
   "metadata": {},
   "source": [
    "Declare a list of words and join them into a sentence using the join() function"
   ]
  },
  {
   "cell_type": "code",
   "execution_count": 61,
   "id": "f4c8637c",
   "metadata": {},
   "outputs": [
    {
     "data": {
      "text/plain": [
       "'amazing'"
      ]
     },
     "execution_count": 61,
     "metadata": {},
     "output_type": "execute_result"
    }
   ],
   "source": [
    "list_of_words=['a','m','a','z','i','n','g']\n",
    "\"\".join(list_of_words)"
   ]
  },
  {
   "cell_type": "markdown",
   "id": "cc3ded86",
   "metadata": {},
   "source": [
    "# 11.Checking Start and End"
   ]
  },
  {
   "cell_type": "markdown",
   "id": "5fd819c3",
   "metadata": {},
   "source": [
    "Declare a string and check if it starts with a specific prefix."
   ]
  },
  {
   "cell_type": "code",
   "execution_count": 65,
   "id": "7c6e6a55",
   "metadata": {},
   "outputs": [
    {
     "name": "stdout",
     "output_type": "stream",
     "text": [
      "the string not start with Miss\n"
     ]
    }
   ],
   "source": [
    "x=\"Milyani's nick name is minu\"\n",
    "prefix=\"Miss\"\n",
    "if x.startswith(prefix):\n",
    "    print(f'the string start with {prefix}')\n",
    "else:\n",
    "    print(f'the string not start with {prefix}')"
   ]
  },
  {
   "cell_type": "markdown",
   "id": "d14b3a29",
   "metadata": {},
   "source": [
    "# 12.Character Isolation"
   ]
  },
  {
   "cell_type": "markdown",
   "id": "f047465a",
   "metadata": {},
   "source": [
    "Declare a string and use indexing to isolate and print the third character."
   ]
  },
  {
   "cell_type": "code",
   "execution_count": 68,
   "id": "0847727c",
   "metadata": {},
   "outputs": [
    {
     "name": "stdout",
     "output_type": "stream",
     "text": [
      "l\n"
     ]
    }
   ],
   "source": [
    "x=\"Milyani's nick name is minu\"\n",
    "isolate=x[2]\n",
    "print(isolate)"
   ]
  },
  {
   "cell_type": "markdown",
   "id": "399a65fa",
   "metadata": {},
   "source": [
    "# 13.String Formatting"
   ]
  },
  {
   "cell_type": "markdown",
   "id": "7887c9b6",
   "metadata": {},
   "source": [
    "Declare variables for a person's name and age, and use string formatting to create a sentence."
   ]
  },
  {
   "cell_type": "code",
   "execution_count": 69,
   "id": "ca269ddf",
   "metadata": {},
   "outputs": [
    {
     "name": "stdout",
     "output_type": "stream",
     "text": [
      "My name is Sheela and my age is 26\n"
     ]
    }
   ],
   "source": [
    "person_name=\"Sheela\"\n",
    "age=26\n",
    "print(f'My name is {person_name} and my age is {age}')"
   ]
  },
  {
   "cell_type": "code",
   "execution_count": null,
   "id": "856083be",
   "metadata": {},
   "outputs": [],
   "source": []
  }
 ],
 "metadata": {
  "kernelspec": {
   "display_name": "Python 3 (ipykernel)",
   "language": "python",
   "name": "python3"
  },
  "language_info": {
   "codemirror_mode": {
    "name": "ipython",
    "version": 3
   },
   "file_extension": ".py",
   "mimetype": "text/x-python",
   "name": "python",
   "nbconvert_exporter": "python",
   "pygments_lexer": "ipython3",
   "version": "3.11.5"
  }
 },
 "nbformat": 4,
 "nbformat_minor": 5
}
